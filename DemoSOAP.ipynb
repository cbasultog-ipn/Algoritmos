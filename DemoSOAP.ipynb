{
 "cells": [
  {
   "cell_type": "markdown",
   "id": "fac70aaf",
   "metadata": {},
   "source": [
    "# Demo Web Service (Java+Python)\n",
    "### IPN UPIIC | Paradigmas de Programación | Mtro. Carlos Basulto (2021)"
   ]
  },
  {
   "cell_type": "markdown",
   "id": "99fcdaaf",
   "metadata": {},
   "source": [
    "Para este ejercicio se tienen desarrollados **Web Services** montado sobre un servidor de aplicaciones **Oracle GlassFish**."
   ]
  },
  {
   "cell_type": "markdown",
   "id": "8c9c38db",
   "metadata": {},
   "source": [
    "### Código JAVA del Web Service sobre Netbeans\n",
    "\n",
    "package ws;\n",
    "\n",
    "import javax.jws.WebService;\n",
    "import javax.jws.WebMethod;\n",
    "import javax.jws.WebParam;\n",
    "\n",
    "@WebService(serviceName = **\"WSOperaciones\"**)\n",
    "public class WSOperaciones {\n",
    "\n",
    "\n",
    "    /**\n",
    "     * Web service operation\n",
    "     */\n",
    "    @WebMethod(operationName = \"procesarPago\")\n",
    "    public int procesarPago(@WebParam(name = \"total\") int total, @WebParam(name = \"pago\") int pago) {\n",
    "       if(pago >= total){\n",
    "           return pago-total;\n",
    "       } else {\n",
    "           return -1;\n",
    "       }\n",
    "    }\n",
    "\n",
    "    /**\n",
    "     * Web service operation\n",
    "     */\n",
    "    @WebMethod(operationName = \"Login\")\n",
    "    public Boolean Login(@WebParam(name = \"user\") String user, @WebParam(name = \"password\") String password) {\n",
    "        //TODO write your implementation code here:\n",
    "                       if(user.equals(\"carlos\") && password.equals(\"upiic\")){\n",
    "                return true;\n",
    "               } else {\n",
    "                return false;\n",
    "               }\n",
    "    }\n",
    "}\n"
   ]
  },
  {
   "cell_type": "markdown",
   "id": "c90c3651",
   "metadata": {},
   "source": [
    "Para hacer uso de los métodos del **Web Service (WS)** es necesario contar con un servicio cliente, para este ejercicio estaremos usando el módulo de **Client** de libreria **Zeep** para **Python**. (Fuente: https://docs.python-zeep.org/en/master)"
   ]
  },
  {
   "cell_type": "code",
   "execution_count": 1,
   "id": "c44b237e",
   "metadata": {},
   "outputs": [],
   "source": [
    "from zeep import Client"
   ]
  },
  {
   "cell_type": "markdown",
   "id": "b77e690c",
   "metadata": {},
   "source": [
    "Definimos la ruta de conexión al WS; la ruta es del **contrato WSDL** del WS:"
   ]
  },
  {
   "cell_type": "code",
   "execution_count": 2,
   "id": "39de837a",
   "metadata": {},
   "outputs": [],
   "source": [
    "cliente = Client('http://localhost:8080/WebService_SOAP/WSOperaciones?WSDL')"
   ]
  },
  {
   "cell_type": "markdown",
   "id": "2af3f243",
   "metadata": {},
   "source": [
    "Hagamos una prueba de la conexión invocando el **método \"Login\"** del WS:"
   ]
  },
  {
   "cell_type": "code",
   "execution_count": 4,
   "id": "c29f42f5",
   "metadata": {},
   "outputs": [
    {
     "name": "stdout",
     "output_type": "stream",
     "text": [
      "False\n"
     ]
    }
   ],
   "source": [
    "print (cliente.service.Login(\"carlos\",\"123\"))"
   ]
  },
  {
   "cell_type": "markdown",
   "id": "5b659485",
   "metadata": {},
   "source": [
    "Invoquemos nuevamente el método y hagamos una evaluación del resultado que nos regresa:"
   ]
  },
  {
   "cell_type": "code",
   "execution_count": 7,
   "id": "489a3dd0",
   "metadata": {},
   "outputs": [
    {
     "name": "stdout",
     "output_type": "stream",
     "text": [
      "Tu usuario/contraseña es incorrecto\n"
     ]
    }
   ],
   "source": [
    "if cliente.service.Login(\"pedro\",\"upiic\"):\n",
    "    print(\"Usuario validado, bienvenido.\")\n",
    "else:\n",
    "    print(\"Tu usuario/contraseña es incorrecto\")"
   ]
  },
  {
   "cell_type": "markdown",
   "id": "b2d90454",
   "metadata": {},
   "source": [
    "Tiempo de probar el siguiente método del WS, llamado **\"procesarPago\"**, en este caso le pondremos un grado más de programación solicitando datos al usuario y pasandolos como entrada al método:"
   ]
  },
  {
   "cell_type": "code",
   "execution_count": 10,
   "id": "2b6d85e6",
   "metadata": {},
   "outputs": [
    {
     "name": "stdout",
     "output_type": "stream",
     "text": [
      "Total a pagar: 800\n"
     ]
    }
   ],
   "source": [
    "total=int(input(\"Total a pagar: \"))"
   ]
  },
  {
   "cell_type": "code",
   "execution_count": 15,
   "id": "ef1b2e44",
   "metadata": {},
   "outputs": [
    {
     "name": "stdout",
     "output_type": "stream",
     "text": [
      "Ingresa el monto del pago: 1000\n"
     ]
    }
   ],
   "source": [
    "pago = int(input(\"Ingresa el monto del pago: \"))"
   ]
  },
  {
   "cell_type": "code",
   "execution_count": 16,
   "id": "136ff9c8",
   "metadata": {},
   "outputs": [],
   "source": [
    "estado = cliente.service.procesarpago(total,pago)"
   ]
  },
  {
   "cell_type": "code",
   "execution_count": 17,
   "id": "4986583e",
   "metadata": {},
   "outputs": [
    {
     "name": "stdout",
     "output_type": "stream",
     "text": [
      "Tu cambio es $ 200\n"
     ]
    }
   ],
   "source": [
    "if estado>-1:\n",
    "    print(\"Tu cambio es $\",str(estado))\n",
    "else:\n",
    "    print(\"Fondos insuficientes\")"
   ]
  },
  {
   "cell_type": "markdown",
   "id": "8fa8ef18",
   "metadata": {},
   "source": [
    "Ahora es tu turno de practicar, revisa con el profesor las instrucciones para tu ejercicio."
   ]
  },
  {
   "cell_type": "code",
   "execution_count": 20,
   "id": "62a268e0",
   "metadata": {},
   "outputs": [
    {
     "ename": "NameError",
     "evalue": "name 'jupyter' is not defined",
     "output_type": "error",
     "traceback": [
      "\u001b[0;31m---------------------------------------------------------------------------\u001b[0m",
      "\u001b[0;31mNameError\u001b[0m                                 Traceback (most recent call last)",
      "\u001b[0;32m<ipython-input-20-0247df9357ae>\u001b[0m in \u001b[0;36m<module>\u001b[0;34m\u001b[0m\n\u001b[0;32m----> 1\u001b[0;31m \u001b[0mjupyter\u001b[0m \u001b[0;34m-\u001b[0m\u001b[0;34m-\u001b[0m\u001b[0mversion\u001b[0m\u001b[0;34m\u001b[0m\u001b[0;34m\u001b[0m\u001b[0m\n\u001b[0m",
      "\u001b[0;31mNameError\u001b[0m: name 'jupyter' is not defined"
     ]
    }
   ],
   "source": [
    "jupyter --version"
   ]
  },
  {
   "cell_type": "code",
   "execution_count": null,
   "id": "740ac7c3",
   "metadata": {},
   "outputs": [],
   "source": []
  }
 ],
 "metadata": {
  "kernelspec": {
   "display_name": "Python 3",
   "language": "python",
   "name": "python3"
  },
  "language_info": {
   "codemirror_mode": {
    "name": "ipython",
    "version": 3
   },
   "file_extension": ".py",
   "mimetype": "text/x-python",
   "name": "python",
   "nbconvert_exporter": "python",
   "pygments_lexer": "ipython3",
   "version": "3.8.10"
  }
 },
 "nbformat": 4,
 "nbformat_minor": 5
}
